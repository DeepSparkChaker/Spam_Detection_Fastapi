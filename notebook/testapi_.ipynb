{
 "cells": [
  {
   "cell_type": "markdown",
   "metadata": {},
   "source": [
    "# Use jupyter to test "
   ]
  },
  {
   "cell_type": "code",
   "execution_count": 1,
   "metadata": {},
   "outputs": [],
   "source": [
    "from IPython.display import HTML\n",
    "import random\n",
    "\n",
    "def hide_toggle(for_next=False):\n",
    "    this_cell = \"\"\"$('div.cell.code_cell.rendered.selected')\"\"\"\n",
    "    next_cell = this_cell + '.next()'\n",
    "\n",
    "    toggle_text = 'Toggle show/hide'  # text shown on toggle link\n",
    "    target_cell = this_cell  # target cell to control with toggle\n",
    "    js_hide_current = ''  # bit of JS to permanently hide code in current cell (only when toggling next cell)\n",
    "\n",
    "    if for_next:\n",
    "        target_cell = next_cell\n",
    "        toggle_text += ' next cell'\n",
    "        js_hide_current = this_cell + '.find(\"div.input\").hide();'\n",
    "\n",
    "    js_f_name = 'code_toggle_{}'.format(str(random.randint(1,2**64)))\n",
    "\n",
    "    html = \"\"\"\n",
    "        <script>\n",
    "            function {f_name}() {{\n",
    "                {cell_selector}.find('div.input').toggle();\n",
    "            }}\n",
    "\n",
    "            {js_hide_current}\n",
    "        </script>\n",
    "\n",
    "        <a href=\"javascript:{f_name}()\">{toggle_text}</a>\n",
    "    \"\"\".format(\n",
    "        f_name=js_f_name,\n",
    "        cell_selector=target_cell,\n",
    "        js_hide_current=js_hide_current, \n",
    "        toggle_text=toggle_text)\n",
    "\n",
    "    return HTML(html)"
   ]
  },
  {
   "cell_type": "code",
   "execution_count": 2,
   "metadata": {},
   "outputs": [
    {
     "name": "stdout",
     "output_type": "stream",
     "text": [
      "Result is 1 + 2\n"
     ]
    },
    {
     "data": {
      "text/html": [
       "\n",
       "        <script>\n",
       "            function code_toggle_16698298402435139808() {\n",
       "                $('div.cell.code_cell.rendered.selected').find('div.input').toggle();\n",
       "            }\n",
       "\n",
       "            \n",
       "        </script>\n",
       "\n",
       "        <a href=\"javascript:code_toggle_16698298402435139808()\">Toggle show/hide</a>\n",
       "    "
      ],
      "text/plain": [
       "<IPython.core.display.HTML object>"
      ]
     },
     "execution_count": 2,
     "metadata": {},
     "output_type": "execute_result"
    }
   ],
   "source": [
    "x = 1\n",
    "y = 2\n",
    "print('Result is {} + {}'.format(x, y))\n",
    "\n",
    "hide_toggle()"
   ]
  },
  {
   "cell_type": "code",
   "execution_count": null,
   "metadata": {},
   "outputs": [],
   "source": [
    "# hide_toggle(for_next=True)"
   ]
  },
  {
   "cell_type": "code",
   "execution_count": 3,
   "metadata": {},
   "outputs": [
    {
     "data": {
      "text/html": [
       "\n",
       "        <script>\n",
       "            function code_toggle_6885056013585765215() {\n",
       "                $('div.cell.code_cell.rendered.selected').next().find('div.input').toggle();\n",
       "            }\n",
       "\n",
       "            $('div.cell.code_cell.rendered.selected').find(\"div.input\").hide();\n",
       "        </script>\n",
       "\n",
       "        <a href=\"javascript:code_toggle_6885056013585765215()\">Toggle show/hide next cell</a>\n",
       "    "
      ],
      "text/plain": [
       "<IPython.core.display.HTML object>"
      ]
     },
     "execution_count": 3,
     "metadata": {},
     "output_type": "execute_result"
    }
   ],
   "source": [
    "hide_toggle(for_next=True)"
   ]
  },
  {
   "cell_type": "code",
   "execution_count": 5,
   "metadata": {},
   "outputs": [
    {
     "data": {
      "application/vnd.jupyter.widget-view+json": {
       "model_id": "2672b044ac4f4207825cca045f63d948",
       "version_major": 2,
       "version_minor": 0
      },
      "text/plain": [
       "VBox(children=(Label(value='Spam Detection ml models'), Text(value='', description='String:', placeholder='Pas…"
      ]
     },
     "metadata": {},
     "output_type": "display_data"
    }
   ],
   "source": [
    "import requests as r\n",
    "from ipywidgets import Label, BoundedFloatText, BoundedIntText, Dropdown, Button, Output, VBox,widgets\n",
    "\n",
    "\n",
    "\n",
    "prescribe_label = Label('Spam Detection ml models')\n",
    "age_text = widgets.Text(\n",
    "    value='',\n",
    "    placeholder='Paste your  description here!',\n",
    "    description='String:',\n",
    "    disabled=False\n",
    ")\n",
    "prescribe_button = Button(description=\"Presribe\")\n",
    "prescribe_output = Output()\n",
    "\n",
    "# Button click event handlers ...\n",
    "def prescribe_button_on_click(b):\n",
    "    item ={\n",
    "      \"message\": \n",
    "         age_text.value\n",
    "    }\n",
    "    prediction = r.post(\"http://192.168.99.100:8000/predict-spam\",  json=item)\n",
    "    recommended_spam = prediction.json()\n",
    "    prescribe_output.clear_output()\n",
    "    with prescribe_output:\n",
    "\n",
    "        print(f\"The analyse of message is {recommended_spam}\")\n",
    "prescribe_button.on_click(prescribe_button_on_click)\n",
    "vbox_prescribe = VBox([prescribe_label, age_text,prescribe_button, prescribe_output ])\n",
    "vbox_prescribe"
   ]
  },
  {
   "cell_type": "markdown",
   "metadata": {},
   "source": [
    "# Streamlit : \n"
   ]
  },
  {
   "cell_type": "code",
   "execution_count": null,
   "metadata": {},
   "outputs": [],
   "source": [
    "import streamlit as st\n",
    "from transformers import pipeline\n",
    "st.title('Sentiment Analyser App')\n",
    "st.write('This app uses the Hugging Face Transformers [sentiment analyser](https://huggingface.co/course/chapter1/3?fw=tf) library to clasify the sentiment of your input as postive or negative. The web app is built using [Streamlit](https://docs.streamlit.io/en/stable/getting_started.html).')\n",
    "st.write(\n",
    "    'To find out how this app was developed, please check out my [Medium post](https://medium.com/@rtkilian/deploy-and-share-your-sentiment-analysis-app-using-streamlit-sharing-2ba3ca6a3ead). To see my source code, have a look at my [GitHub repo](https://github.com/rtkilian/streamlit-huggingface).')\n",
    "\n",
    "st.write('*Note: it will take up to 30 seconds to run the app.*')\n",
    "\n",
    "form = st.form(key='sentiment-form')\n",
    "user_input = form.text_area('Enter your text')\n",
    "submit = form.form_submit_button('Submit')\n",
    "\n",
    "if submit:\n",
    "    classifier = pipeline(\"sentiment-analysis\")\n",
    "    result = classifier(user_input)[0]\n",
    "    label = result['label']\n",
    "    score = result['score']\n",
    "\n",
    "    if label == 'POSITIVE':\n",
    "        st.success(f'{label} sentiment (score: {score})')\n",
    "    else:\n",
    "        st.error(f'{label} sentiment (score: {score})')"
   ]
  },
  {
   "cell_type": "code",
   "execution_count": 13,
   "metadata": {},
   "outputs": [],
   "source": [
    "# Create two bounded text box that allow only numbers between the min year (2012) and the max year (2015)\n",
    "from ipywidgets import widgets, interactive\n",
    "import matplotlib.pyplot as plt\n",
    "from io import StringIO\n",
    "import pandas as pd\n",
    "testdata=StringIO(\"\"\"Year,Sex,Area,Count\n",
    "2015,W,Dhaka,6\n",
    "2015,M,Dhaka,3\n",
    "2015,W,Khulna,1\n",
    "2015,M,Khulna,8\n",
    "2014,M,Dhaka,13\n",
    "2014,W,Dhaka,20\n",
    "2014,M,Khulna,9\n",
    "2014,W,Khulna,6\n",
    "2013,W,Dhaka,11\n",
    "2013,M,Dhaka,2\n",
    "2013,W,Khulna,8\n",
    "2013,M,Khulna,5\n",
    "2012,M,Dhaka,12\n",
    "2012,W,Dhaka,4\n",
    "2012,W,Khulna,7\n",
    "2012,M,Khulna,1\n",
    "    \"\"\")\n",
    "\n",
    "df = pd.read_csv(testdata, sep=\",\")\n",
    "start_year = widgets.BoundedFloatText(\n",
    "    value=df.Year.min(),\n",
    "    min=df.Year.min(),\n",
    "    max=df.Year.max(),\n",
    "    step=1,\n",
    "    description='Start Year:',\n",
    "    disabled=False,\n",
    "    color='black'\n",
    ")\n",
    "end_year = widgets.BoundedFloatText(\n",
    "    value=df.Year.max(),\n",
    "    min=df.Year.min(),\n",
    "    max=df.Year.max(),\n",
    "    step=1,\n",
    "    description='End Year:',\n",
    "    disabled=False,\n",
    "    color='black'\n",
    ")\n",
    "\n",
    "# Make a dropdown to select the Area, or \"All\"\n",
    "area = widgets.Dropdown(\n",
    "    options=['All'] + list(df['Area'].unique()),\n",
    "    value='All',\n",
    "    description='Area:',\n",
    ")\n",
    "\n",
    "def plotit(area, start_year, end_year):\n",
    "    \"\"\"\n",
    "    Filters and plot the dataframe as a stacked bar chart of count of Male versus Women\n",
    "\n",
    "    Args:\n",
    "    -----\n",
    "        * area (str): the area to filter on, or \"All\" to display all Areas\n",
    "\n",
    "        * start_year, end_year (int, as float): the start and ends years, inclusive\n",
    "\n",
    "        Note: the dataframe to plot is globally defined here as `df`\n",
    "\n",
    "    Returns:\n",
    "    --------\n",
    "        A matplotlib stacked bar chart\n",
    "\n",
    "    \"\"\"\n",
    "    if start_year > end_year:\n",
    "        print(\"You must select a start year that is prior to end year\")\n",
    "    else:\n",
    "        df2 = df.copy()\n",
    "        if area != 'All':\n",
    "            df2 = df2[df2.Area == area]\n",
    "\n",
    "        # Filter between min and max years (inclusive)\n",
    "        df2 = df2[(df2.Year >= start_year) & (df2.Year <= end_year)]\n",
    "\n",
    "\n",
    "        # Plot it (only if there's data to plot)\n",
    "        if len(df2) > 0:\n",
    "            df2.groupby(['Year', 'Sex']).sum()['Count'].unstack().plot(kind='bar', stacked=True, title=\"Area = {}\".format(area))\n",
    "            plt.show();\n",
    "        else:\n",
    "            print(\"No data to show for current selection\")"
   ]
  },
  {
   "cell_type": "code",
   "execution_count": 14,
   "metadata": {},
   "outputs": [
    {
     "data": {
      "application/vnd.jupyter.widget-view+json": {
       "model_id": "9c67756425394c2eb1b9462dca0dd70c",
       "version_major": 2,
       "version_minor": 0
      },
      "text/plain": [
       "interactive(children=(Dropdown(description='Area:', options=('All', 'Dhaka', 'Khulna'), value='All'), BoundedF…"
      ]
     },
     "metadata": {},
     "output_type": "display_data"
    }
   ],
   "source": [
    "interactive(plotit, area=area, start_year=start_year, end_year=end_year)"
   ]
  }
 ],
 "metadata": {
  "kernelspec": {
   "display_name": "Python 3",
   "language": "python",
   "name": "python3"
  },
  "language_info": {
   "codemirror_mode": {
    "name": "ipython",
    "version": 3
   },
   "file_extension": ".py",
   "mimetype": "text/x-python",
   "name": "python",
   "nbconvert_exporter": "python",
   "pygments_lexer": "ipython3",
   "version": "3.8.8"
  }
 },
 "nbformat": 4,
 "nbformat_minor": 4
}
